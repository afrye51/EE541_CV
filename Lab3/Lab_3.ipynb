{
 "cells": [
  {
   "cell_type": "markdown",
   "metadata": {},
   "source": [
    "Image manipulation demonstration created by Alex Frye, for use in Dr. Hoover's EE/CENG 441/541 Computer Vision class"
   ]
  },
  {
   "cell_type": "code",
   "execution_count": 1,
   "metadata": {},
   "outputs": [],
   "source": [
    "import skimage\n",
    "from skimage import io\n",
    "from skimage import data\n",
    "import matplotlib.pyplot as plt\n",
    "from matplotlib import gridspec\n",
    "from mpl_toolkits.mplot3d import Axes3D\n",
    "import numpy as np\n",
    "import time\n",
    "from scipy import signal\n",
    "from skimage.transform import resize\n",
    "from scipy.ndimage import gaussian_filter\n",
    "\n",
    "from Lab3_lib import *"
   ]
  },
  {
   "cell_type": "code",
   "execution_count": 27,
   "metadata": {},
   "outputs": [],
   "source": [
    "header = 'P4Images/'\n",
    "im_per_group = [64, 100]\n",
    "im_maj_groups = ['TestImages/', 'TrainingImages/']\n",
    "im_min_groups = ['Boat', 'Cabinet', 'Car', 'Chair', 'Cup', 'FlashLight', 'Handle', 'HoseReel',\n",
    "                'ibook01', 'imac04', 'imac98', 'Keyboard', 'LED', 'Light1', 'Light2',\n",
    "                'Mug', 'Scooter', 'SprayBottle', 'Stapler', 'Trash']\n",
    "im_proc = ['Unprocessed/', 'Processed/']\n",
    "im_size = ['32/', '64/']\n",
    "im_head = 'img_'\n",
    "im_foot = '.png'\n",
    "im_ans = 'RandAng.txt'\n",
    "\n",
    "# Grab testing data\n",
    "im_testing = []\n",
    "for i in range(len(im_min_groups)):\n",
    "    im_testing.append([])\n",
    "    for j in range(im_per_group[0]):\n",
    "        head = header + im_maj_groups[0] + im_min_groups[i] + im_size[0] + im_proc[0] + im_head\n",
    "        im_testing[i].append(io.imread(head + str(j) + im_foot))\n",
    "\n",
    "# Grab testing answers\n",
    "im_testing_ans_str = header + im_maj_groups[0] + im_ans\n",
    "with open (im_testing_ans_str, \"r\") as myfile:\n",
    "    data=myfile.read()\n",
    "\n",
    "im_testing_ans = data.split(',')\n",
    "for i in range(len(im_testing_ans)):\n",
    "    im_testing_ans[i] = float(im_testing_ans[i])\n",
    "\n",
    "# Grab training data\n",
    "im_training_proc = []\n",
    "im_training_unproc = []\n",
    "for i in range(len(im_min_groups)):\n",
    "    im_training_proc.append([])\n",
    "    im_training_unproc.append([])\n",
    "    for j in range(im_per_group[0]):\n",
    "        head = header + im_maj_groups[1] + im_min_groups[i] + im_size[1] + im_proc[0] + im_head\n",
    "        im_training_proc[i].append(io.imread(head + str(j) + im_foot))\n",
    "        \n",
    "        head = header + im_maj_groups[1] + im_min_groups[i] + im_size[1] + im_proc[1] + im_head\n",
    "        im_training_unproc[i].append(io.imread(head + str(j) + im_foot))"
   ]
  },
  {
   "cell_type": "code",
   "execution_count": null,
   "metadata": {},
   "outputs": [],
   "source": []
  }
 ],
 "metadata": {
  "kernelspec": {
   "display_name": "Python 3",
   "language": "python",
   "name": "python3"
  },
  "language_info": {
   "codemirror_mode": {
    "name": "ipython",
    "version": 3
   },
   "file_extension": ".py",
   "mimetype": "text/x-python",
   "name": "python",
   "nbconvert_exporter": "python",
   "pygments_lexer": "ipython3",
   "version": "3.7.4"
  }
 },
 "nbformat": 4,
 "nbformat_minor": 4
}
